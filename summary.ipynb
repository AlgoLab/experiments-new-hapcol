{
 "cells": [
  {
   "cell_type": "code",
   "execution_count": 1,
   "metadata": {
    "collapsed": true
   },
   "outputs": [],
   "source": [
    "import pandas as pd"
   ]
  },
  {
   "cell_type": "markdown",
   "metadata": {},
   "source": [
    "# abbreviations\n",
    "wh: WhatsHap\n",
    "hm: HapChat + Merge (via red-blue graph) + Random sampling \n",
    "hr: HapChat + Random sampling\n",
    "hw: HapChat + WhatsHap merging"
   ]
  },
  {
   "cell_type": "code",
   "execution_count": 100,
   "metadata": {
    "collapsed": false
   },
   "outputs": [],
   "source": [
    "df_wh = pd.read_csv('output/tables/whatshap.csv', skiprows=1,\n",
    "                    names=['dataset', 'realigned', 'wh_downsample', 'time_wh',\n",
    "           'mem_wh', 'swerr_wh'])\n",
    "df_hm = pd.read_csv('output/tables/hapchat_merge_random_downsample.csv', skiprows=1,\n",
    "                    names=['dataset', 'realigned', 'wh_downsample', \"merging_hm\", \"random_downsample_hm\",\n",
    "                           \"epsilon_alpha_hm\", 'time_hm', 'mem_hm', 'swerr_hm'])\n",
    "df_hr = pd.read_csv('output/tables/hapchat_random_downsample.csv', skiprows=1,\n",
    "                     names=['dataset', 'realigned', 'wh_downsample', \"random_downsample_hr\",\n",
    "                           \"epsilon_alpha_hr\", 'time_hr', 'mem_hr', 'swerr_hr'])\n",
    "df_hw = pd.read_csv('output/tables/hapchat_whatshap_downsample.csv', skiprows=1,\n",
    "                names=['dataset', 'realigned', 'wh_downsample', \n",
    "                           \"epsilon_alpha_hw\", 'time_hw', 'mem_hw', 'swerr_hw'])"
   ]
  },
  {
   "cell_type": "code",
   "execution_count": 101,
   "metadata": {
    "collapsed": false
   },
   "outputs": [
    {
     "data": {
      "text/html": [
       "<div>\n",
       "<table border=\"1\" class=\"dataframe\">\n",
       "  <thead>\n",
       "    <tr style=\"text-align: right;\">\n",
       "      <th></th>\n",
       "      <th>dataset</th>\n",
       "      <th>realigned</th>\n",
       "      <th>wh_downsample</th>\n",
       "      <th>merging_hm</th>\n",
       "      <th>random_downsample_hm</th>\n",
       "      <th>epsilon_alpha_hm</th>\n",
       "      <th>time_hm</th>\n",
       "      <th>mem_hm</th>\n",
       "      <th>swerr_hm</th>\n",
       "    </tr>\n",
       "  </thead>\n",
       "  <tbody>\n",
       "    <tr>\n",
       "      <th>0</th>\n",
       "      <td>ashk.pacbio.child.chr1.cov10</td>\n",
       "      <td>raw</td>\n",
       "      <td>hN</td>\n",
       "      <td>merged_e15_m25_t6_n3</td>\n",
       "      <td>downs_s1_m15</td>\n",
       "      <td>05_0001</td>\n",
       "      <td>20.84</td>\n",
       "      <td>6704</td>\n",
       "      <td>1.68</td>\n",
       "    </tr>\n",
       "    <tr>\n",
       "      <th>1</th>\n",
       "      <td>ashk.pacbio.child.chr1.cov10</td>\n",
       "      <td>raw</td>\n",
       "      <td>hN</td>\n",
       "      <td>merged_e15_m25_t6_n3</td>\n",
       "      <td>downs_s1_m15</td>\n",
       "      <td>05_001</td>\n",
       "      <td>10.77</td>\n",
       "      <td>4624</td>\n",
       "      <td>1.68</td>\n",
       "    </tr>\n",
       "    <tr>\n",
       "      <th>2</th>\n",
       "      <td>ashk.pacbio.child.chr1.cov10</td>\n",
       "      <td>raw</td>\n",
       "      <td>hN</td>\n",
       "      <td>merged_e15_m25_t6_n3</td>\n",
       "      <td>downs_s1_m15</td>\n",
       "      <td>05_01</td>\n",
       "      <td>4.54</td>\n",
       "      <td>3552</td>\n",
       "      <td>1.98</td>\n",
       "    </tr>\n",
       "    <tr>\n",
       "      <th>3</th>\n",
       "      <td>ashk.pacbio.child.chr1.cov10</td>\n",
       "      <td>raw</td>\n",
       "      <td>hN</td>\n",
       "      <td>merged_e15_m25_t6_n3</td>\n",
       "      <td>downs_s1_m15</td>\n",
       "      <td>05_1</td>\n",
       "      <td>3.44</td>\n",
       "      <td>3572</td>\n",
       "      <td>2.64</td>\n",
       "    </tr>\n",
       "    <tr>\n",
       "      <th>4</th>\n",
       "      <td>ashk.pacbio.child.chr1.cov10</td>\n",
       "      <td>raw</td>\n",
       "      <td>hN</td>\n",
       "      <td>merged_e15_m25_t6_n3</td>\n",
       "      <td>downs_s1_m20</td>\n",
       "      <td>05_0001</td>\n",
       "      <td>30.49</td>\n",
       "      <td>12076</td>\n",
       "      <td>1.67</td>\n",
       "    </tr>\n",
       "  </tbody>\n",
       "</table>\n",
       "</div>"
      ],
      "text/plain": [
       "                        dataset realigned wh_downsample            merging_hm  \\\n",
       "0  ashk.pacbio.child.chr1.cov10       raw            hN  merged_e15_m25_t6_n3   \n",
       "1  ashk.pacbio.child.chr1.cov10       raw            hN  merged_e15_m25_t6_n3   \n",
       "2  ashk.pacbio.child.chr1.cov10       raw            hN  merged_e15_m25_t6_n3   \n",
       "3  ashk.pacbio.child.chr1.cov10       raw            hN  merged_e15_m25_t6_n3   \n",
       "4  ashk.pacbio.child.chr1.cov10       raw            hN  merged_e15_m25_t6_n3   \n",
       "\n",
       "  random_downsample_hm epsilon_alpha_hm  time_hm  mem_hm  swerr_hm  \n",
       "0         downs_s1_m15          05_0001    20.84    6704      1.68  \n",
       "1         downs_s1_m15           05_001    10.77    4624      1.68  \n",
       "2         downs_s1_m15            05_01     4.54    3552      1.98  \n",
       "3         downs_s1_m15             05_1     3.44    3572      2.64  \n",
       "4         downs_s1_m20          05_0001    30.49   12076      1.67  "
      ]
     },
     "execution_count": 101,
     "metadata": {},
     "output_type": "execute_result"
    }
   ],
   "source": [
    "df_hm.head()\n",
    "    "
   ]
  },
  {
   "cell_type": "code",
   "execution_count": 102,
   "metadata": {
    "collapsed": false
   },
   "outputs": [
    {
     "data": {
      "text/html": [
       "<div>\n",
       "<table border=\"1\" class=\"dataframe\">\n",
       "  <thead>\n",
       "    <tr style=\"text-align: right;\">\n",
       "      <th></th>\n",
       "      <th>dataset</th>\n",
       "      <th>realigned</th>\n",
       "      <th>wh_downsample</th>\n",
       "      <th>time_wh</th>\n",
       "      <th>mem_wh</th>\n",
       "      <th>swerr_wh</th>\n",
       "    </tr>\n",
       "  </thead>\n",
       "  <tbody>\n",
       "    <tr>\n",
       "      <th>0</th>\n",
       "      <td>ashk.pacbio.child.chr1.cov10</td>\n",
       "      <td>raw</td>\n",
       "      <td>h15</td>\n",
       "      <td>795.28</td>\n",
       "      <td>543792</td>\n",
       "      <td>1.66</td>\n",
       "    </tr>\n",
       "    <tr>\n",
       "      <th>1</th>\n",
       "      <td>ashk.pacbio.child.chr1.cov10</td>\n",
       "      <td>raw</td>\n",
       "      <td>h20</td>\n",
       "      <td>1107.13</td>\n",
       "      <td>1113808</td>\n",
       "      <td>1.66</td>\n",
       "    </tr>\n",
       "    <tr>\n",
       "      <th>2</th>\n",
       "      <td>ashk.pacbio.child.chr1.cov10</td>\n",
       "      <td>realigned</td>\n",
       "      <td>h15</td>\n",
       "      <td>810.00</td>\n",
       "      <td>543748</td>\n",
       "      <td>1.66</td>\n",
       "    </tr>\n",
       "    <tr>\n",
       "      <th>3</th>\n",
       "      <td>ashk.pacbio.child.chr1.cov10</td>\n",
       "      <td>realigned</td>\n",
       "      <td>h20</td>\n",
       "      <td>1150.04</td>\n",
       "      <td>1114796</td>\n",
       "      <td>1.66</td>\n",
       "    </tr>\n",
       "    <tr>\n",
       "      <th>4</th>\n",
       "      <td>ashk.pacbio.child.chr1.cov15</td>\n",
       "      <td>raw</td>\n",
       "      <td>h15</td>\n",
       "      <td>1286.54</td>\n",
       "      <td>655208</td>\n",
       "      <td>1.01</td>\n",
       "    </tr>\n",
       "  </tbody>\n",
       "</table>\n",
       "</div>"
      ],
      "text/plain": [
       "                        dataset  realigned wh_downsample  time_wh   mem_wh  \\\n",
       "0  ashk.pacbio.child.chr1.cov10        raw           h15   795.28   543792   \n",
       "1  ashk.pacbio.child.chr1.cov10        raw           h20  1107.13  1113808   \n",
       "2  ashk.pacbio.child.chr1.cov10  realigned           h15   810.00   543748   \n",
       "3  ashk.pacbio.child.chr1.cov10  realigned           h20  1150.04  1114796   \n",
       "4  ashk.pacbio.child.chr1.cov15        raw           h15  1286.54   655208   \n",
       "\n",
       "   swerr_wh  \n",
       "0      1.66  \n",
       "1      1.66  \n",
       "2      1.66  \n",
       "3      1.66  \n",
       "4      1.01  "
      ]
     },
     "execution_count": 102,
     "metadata": {},
     "output_type": "execute_result"
    }
   ],
   "source": [
    "df_wh.head()"
   ]
  },
  {
   "cell_type": "code",
   "execution_count": 103,
   "metadata": {
    "collapsed": false
   },
   "outputs": [
    {
     "data": {
      "text/html": [
       "<div>\n",
       "<table border=\"1\" class=\"dataframe\">\n",
       "  <thead>\n",
       "    <tr style=\"text-align: right;\">\n",
       "      <th></th>\n",
       "      <th>dataset</th>\n",
       "      <th>realigned</th>\n",
       "      <th>wh_downsample</th>\n",
       "      <th>random_downsample_hr</th>\n",
       "      <th>epsilon_alpha_hr</th>\n",
       "      <th>time_hr</th>\n",
       "      <th>mem_hr</th>\n",
       "      <th>swerr_hr</th>\n",
       "    </tr>\n",
       "  </thead>\n",
       "  <tbody>\n",
       "    <tr>\n",
       "      <th>0</th>\n",
       "      <td>ashk.pacbio.child.chr1.cov10</td>\n",
       "      <td>raw</td>\n",
       "      <td>hN</td>\n",
       "      <td>downs_s1_m15</td>\n",
       "      <td>05_0001</td>\n",
       "      <td>44.76</td>\n",
       "      <td>8160</td>\n",
       "      <td>1.66</td>\n",
       "    </tr>\n",
       "    <tr>\n",
       "      <th>1</th>\n",
       "      <td>ashk.pacbio.child.chr1.cov10</td>\n",
       "      <td>raw</td>\n",
       "      <td>hN</td>\n",
       "      <td>downs_s1_m15</td>\n",
       "      <td>05_001</td>\n",
       "      <td>21.40</td>\n",
       "      <td>5416</td>\n",
       "      <td>1.58</td>\n",
       "    </tr>\n",
       "    <tr>\n",
       "      <th>2</th>\n",
       "      <td>ashk.pacbio.child.chr1.cov10</td>\n",
       "      <td>raw</td>\n",
       "      <td>hN</td>\n",
       "      <td>downs_s1_m15</td>\n",
       "      <td>05_01</td>\n",
       "      <td>8.52</td>\n",
       "      <td>3648</td>\n",
       "      <td>1.78</td>\n",
       "    </tr>\n",
       "    <tr>\n",
       "      <th>3</th>\n",
       "      <td>ashk.pacbio.child.chr1.cov10</td>\n",
       "      <td>raw</td>\n",
       "      <td>hN</td>\n",
       "      <td>downs_s1_m15</td>\n",
       "      <td>05_1</td>\n",
       "      <td>5.35</td>\n",
       "      <td>3136</td>\n",
       "      <td>2.26</td>\n",
       "    </tr>\n",
       "    <tr>\n",
       "      <th>4</th>\n",
       "      <td>ashk.pacbio.child.chr1.cov10</td>\n",
       "      <td>raw</td>\n",
       "      <td>hN</td>\n",
       "      <td>downs_s1_m20</td>\n",
       "      <td>05_0001</td>\n",
       "      <td>118.85</td>\n",
       "      <td>35060</td>\n",
       "      <td>1.62</td>\n",
       "    </tr>\n",
       "  </tbody>\n",
       "</table>\n",
       "</div>"
      ],
      "text/plain": [
       "                        dataset realigned wh_downsample random_downsample_hr  \\\n",
       "0  ashk.pacbio.child.chr1.cov10       raw            hN         downs_s1_m15   \n",
       "1  ashk.pacbio.child.chr1.cov10       raw            hN         downs_s1_m15   \n",
       "2  ashk.pacbio.child.chr1.cov10       raw            hN         downs_s1_m15   \n",
       "3  ashk.pacbio.child.chr1.cov10       raw            hN         downs_s1_m15   \n",
       "4  ashk.pacbio.child.chr1.cov10       raw            hN         downs_s1_m20   \n",
       "\n",
       "  epsilon_alpha_hr  time_hr  mem_hr  swerr_hr  \n",
       "0          05_0001    44.76    8160      1.66  \n",
       "1           05_001    21.40    5416      1.58  \n",
       "2            05_01     8.52    3648      1.78  \n",
       "3             05_1     5.35    3136      2.26  \n",
       "4          05_0001   118.85   35060      1.62  "
      ]
     },
     "execution_count": 103,
     "metadata": {},
     "output_type": "execute_result"
    }
   ],
   "source": [
    "df_hr.head()"
   ]
  },
  {
   "cell_type": "code",
   "execution_count": 104,
   "metadata": {
    "collapsed": false
   },
   "outputs": [
    {
     "data": {
      "text/html": [
       "<div>\n",
       "<table border=\"1\" class=\"dataframe\">\n",
       "  <thead>\n",
       "    <tr style=\"text-align: right;\">\n",
       "      <th></th>\n",
       "      <th>dataset</th>\n",
       "      <th>realigned</th>\n",
       "      <th>wh_downsample</th>\n",
       "      <th>epsilon_alpha_hw</th>\n",
       "      <th>time_hw</th>\n",
       "      <th>mem_hw</th>\n",
       "      <th>swerr_hw</th>\n",
       "    </tr>\n",
       "  </thead>\n",
       "  <tbody>\n",
       "    <tr>\n",
       "      <th>0</th>\n",
       "      <td>ashk.pacbio.child.chr1.cov10</td>\n",
       "      <td>raw</td>\n",
       "      <td>h15</td>\n",
       "      <td>05_0001</td>\n",
       "      <td>38.30</td>\n",
       "      <td>7592</td>\n",
       "      <td>1.62</td>\n",
       "    </tr>\n",
       "    <tr>\n",
       "      <th>1</th>\n",
       "      <td>ashk.pacbio.child.chr1.cov10</td>\n",
       "      <td>raw</td>\n",
       "      <td>h15</td>\n",
       "      <td>05_001</td>\n",
       "      <td>19.13</td>\n",
       "      <td>5216</td>\n",
       "      <td>1.55</td>\n",
       "    </tr>\n",
       "    <tr>\n",
       "      <th>2</th>\n",
       "      <td>ashk.pacbio.child.chr1.cov10</td>\n",
       "      <td>raw</td>\n",
       "      <td>h15</td>\n",
       "      <td>05_01</td>\n",
       "      <td>7.29</td>\n",
       "      <td>3408</td>\n",
       "      <td>1.70</td>\n",
       "    </tr>\n",
       "    <tr>\n",
       "      <th>3</th>\n",
       "      <td>ashk.pacbio.child.chr1.cov10</td>\n",
       "      <td>raw</td>\n",
       "      <td>h15</td>\n",
       "      <td>05_1</td>\n",
       "      <td>4.50</td>\n",
       "      <td>2860</td>\n",
       "      <td>2.22</td>\n",
       "    </tr>\n",
       "    <tr>\n",
       "      <th>4</th>\n",
       "      <td>ashk.pacbio.child.chr1.cov10</td>\n",
       "      <td>raw</td>\n",
       "      <td>h20</td>\n",
       "      <td>05_0001</td>\n",
       "      <td>102.42</td>\n",
       "      <td>27068</td>\n",
       "      <td>1.62</td>\n",
       "    </tr>\n",
       "  </tbody>\n",
       "</table>\n",
       "</div>"
      ],
      "text/plain": [
       "                        dataset realigned wh_downsample epsilon_alpha_hw  \\\n",
       "0  ashk.pacbio.child.chr1.cov10       raw           h15          05_0001   \n",
       "1  ashk.pacbio.child.chr1.cov10       raw           h15           05_001   \n",
       "2  ashk.pacbio.child.chr1.cov10       raw           h15            05_01   \n",
       "3  ashk.pacbio.child.chr1.cov10       raw           h15             05_1   \n",
       "4  ashk.pacbio.child.chr1.cov10       raw           h20          05_0001   \n",
       "\n",
       "   time_hw  mem_hw  swerr_hw  \n",
       "0    38.30    7592      1.62  \n",
       "1    19.13    5216      1.55  \n",
       "2     7.29    3408      1.70  \n",
       "3     4.50    2860      2.22  \n",
       "4   102.42   27068      1.62  "
      ]
     },
     "execution_count": 104,
     "metadata": {},
     "output_type": "execute_result"
    }
   ],
   "source": [
    "df_hw.head()"
   ]
  },
  {
   "cell_type": "code",
   "execution_count": 110,
   "metadata": {
    "collapsed": false
   },
   "outputs": [],
   "source": [
    "fusion = pd.merge(df_wh, df_hm, how='outer', on=['dataset', 'realigned', 'wh_downsample'])\n",
    "fusion = pd.merge(fusion, df_hr, how='outer', on=['dataset', 'realigned', 'wh_downsample'])\n",
    "fusion = pd.merge(fusion, df_hw, how='outer', on=['dataset', 'realigned', 'wh_downsample'])"
   ]
  },
  {
   "cell_type": "code",
   "execution_count": null,
   "metadata": {
    "collapsed": false
   },
   "outputs": [],
   "source": [
    "fusion"
   ]
  },
  {
   "cell_type": "code",
   "execution_count": null,
   "metadata": {
    "collapsed": true
   },
   "outputs": [],
   "source": []
  }
 ],
 "metadata": {
  "kernelspec": {
   "display_name": "Python 3",
   "language": "python",
   "name": "python3"
  },
  "language_info": {
   "codemirror_mode": {
    "name": "ipython",
    "version": 3
   },
   "file_extension": ".py",
   "mimetype": "text/x-python",
   "name": "python",
   "nbconvert_exporter": "python",
   "pygments_lexer": "ipython3",
   "version": "3.5.3"
  }
 },
 "nbformat": 4,
 "nbformat_minor": 2
}
